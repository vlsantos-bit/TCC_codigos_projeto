{
 "cells": [
  {
   "cell_type": "code",
   "execution_count": 76,
   "id": "217eeb3e",
   "metadata": {},
   "outputs": [],
   "source": [
    "import plotly.graph_objects as go\n",
    "import pandas as pd\n",
    "import numpy as np\n",
    "import plotly.express as px\n",
    "from datetime import datetime\n",
    "import matplotlib.pyplot as plt\n",
    "import decimal\n"
   ]
  },
  {
   "cell_type": "code",
   "execution_count": 17,
   "id": "0c785c91",
   "metadata": {},
   "outputs": [],
   "source": [
    "dt = pd.read_excel('dados_t2.xlsx')\n",
    "time = pd.to_datetime(dt['Data'].astype(str) + ' ' + dt['hora'].astype(str))\n",
    "#Realizando ajuste (Erro sistemático - dados de umidade)\n",
    "umid = dt['umidade']\n",
    "umid = umid-7\n",
    "temp = dt['temperatura']"
   ]
  },
  {
   "cell_type": "code",
   "execution_count": 29,
   "id": "bfb86f6f",
   "metadata": {},
   "outputs": [],
   "source": [
    "u = []\n",
    "t = []\n",
    "for i in range(len(time)):\n",
    "    u.append(60)\n",
    "    t.append(25)"
   ]
  },
  {
   "cell_type": "code",
   "execution_count": 45,
   "id": "77501d27",
   "metadata": {},
   "outputs": [],
   "source": [
    "fig = go.Figure([go.Scatter(x=time, y=umid, name='Umidade relativa',line_color='blue')])\n",
    "\n",
    "fig.add_trace(go.Scatter(x=time,y=u,mode='lines',name='Umidade relativa Ideal', line=dict(color=\"Black\")))\n",
    "\n",
    "\n",
    "fig.update_xaxes(\n",
    "    rangeslider_visible=True,\n",
    "    rangeselector=dict(\n",
    "        buttons=list([\n",
    "            dict(count=3, label=\"Últimas 3 horas\", step=\"hour\", stepmode=\"backward\"),\n",
    "            dict(count=3, label=\"Últimos 3 dias\", step=\"day\", stepmode=\"backward\"),\n",
    "            dict(step=\"all\",label=\"Toda série\")\n",
    "        ])\n",
    "    )\n",
    ")\n",
    "fig.update_layout(title='Dados internos', xaxis_title='tempo',yaxis_title='Umidade Relativa %')\n",
    "\n",
    "fig.write_html(\"umid.html\")\n"
   ]
  },
  {
   "cell_type": "code",
   "execution_count": 46,
   "id": "3617dae6",
   "metadata": {},
   "outputs": [],
   "source": [
    "fig = go.Figure([go.Scatter(x=time, y=temp, name='Temperatura',line_color='red')])\n",
    "\n",
    "\n",
    "fig.add_trace(go.Scatter(x=time, y=t,mode='lines',name='Temperatura Ideal ', line=dict(color=\"black\")))\n",
    "\n",
    "\n",
    "fig.update_xaxes(\n",
    "    rangeslider_visible=True,\n",
    "    rangeselector=dict(\n",
    "        buttons=list([\n",
    "            dict(count=3, label=\"Últimas 3 horas\", step=\"hour\", stepmode=\"backward\"),\n",
    "            dict(count=3, label=\"Últimos 3 dias\", step=\"day\", stepmode=\"backward\"),\n",
    "            dict(step=\"all\",label=\"Toda série\")\n",
    "        ])\n",
    "    )\n",
    ")\n",
    "fig.update_layout(title='Dados internos', xaxis_title='tempo',yaxis_title='Temperatura °C')\n",
    "fig.write_html(\"Temp.html\")\n"
   ]
  },
  {
   "cell_type": "code",
   "execution_count": 360,
   "id": "aba13e87",
   "metadata": {},
   "outputs": [],
   "source": [
    "#Organizando os dados\n",
    "dado = pd.read_csv('cole_malg_2021.csv')\n",
    "time=dado['data']\n",
    "nd=[]"
   ]
  },
  {
   "cell_type": "code",
   "execution_count": 361,
   "id": "5dfe8d32",
   "metadata": {},
   "outputs": [],
   "source": [
    "for i in range(0,3569,1):\n",
    "    da = datetime.strptime(time[i], '%m/%d/%y %H:%M:%S')\n",
    "    nd.append(da)\n",
    "del(dado['data'])\n",
    "nd=pd.DataFrame(nd)\n",
    "nd.columns = ['data']\n",
    "data=pd.concat([nd,dado], axis=1)\n",
    "time=data['data']\n"
   ]
  },
  {
   "cell_type": "code",
   "execution_count": 334,
   "id": "a74818a2",
   "metadata": {},
   "outputs": [],
   "source": [
    "dado1 = pd.read_csv('cole_malg_2021_jan.csv')\n",
    "time=dado1['data']\n",
    "umid = dado1['umid'].dropna(inplace=True)\n",
    "umid=dado1['umid'].astype(float).map('{:.0f}'.format)\n",
    "\n",
    "temp = dado1['temp'].dropna(inplace=True)\n",
    "temp = dado1['temp'].astype(float).map('{:.0f}'.format)"
   ]
  },
  {
   "cell_type": "code",
   "execution_count": 337,
   "id": "3e69225b",
   "metadata": {},
   "outputs": [],
   "source": [
    "\n",
    "\n",
    "def tr(string, index):\n",
    "    return string[:index] + '.' + string[index:]\n",
    "da=[]\n",
    "de=[]\n",
    "for i in range(0,len(umid)):\n",
    "    d=str(umid[i])\n",
    "    d1=str(temp[i])\n",
    "    da.append(d)\n",
    "    de.append(d1)\n",
    "umi1=[]\n",
    "tem2=[]\n",
    "for i in range(0,3568,1):\n",
    "    umi1.append(float(tr(da[i+1],2)))\n",
    "    tem2.append(float(tr(de[i+1],2)))"
   ]
  },
  {
   "cell_type": "code",
   "execution_count": 344,
   "id": "1dd3192c",
   "metadata": {},
   "outputs": [],
   "source": [
    "u = []\n",
    "t = []\n",
    "for i in range(len(time)):\n",
    "    u.append(60)\n",
    "    t.append(25)"
   ]
  },
  {
   "cell_type": "code",
   "execution_count": 298,
   "id": "8bc8ccfe",
   "metadata": {},
   "outputs": [],
   "source": [
    "time=data['data']\n",
    "umid = data['umid'].dropna(inplace=True)\n",
    "umid=data['umid'].astype(float).map('{:.0f}'.format)\n",
    "\n",
    "temp = data['temp'].dropna(inplace=True)\n",
    "temp = data['temp'].astype(float).map('{:.0f}'.format)"
   ]
  },
  {
   "cell_type": "code",
   "execution_count": null,
   "id": "47c7cdda",
   "metadata": {},
   "outputs": [],
   "source": []
  },
  {
   "cell_type": "code",
   "execution_count": 299,
   "id": "630f5e74",
   "metadata": {},
   "outputs": [],
   "source": [
    "def tr(string, index):\n",
    "    return string[:index] + '.' + string[index:]\n",
    "da=[]\n",
    "de=[]\n",
    "for i in range(0,len(umid)):\n",
    "    d=str(umid[i])\n",
    "    d1=str(temp[i])\n",
    "    da.append(d)\n",
    "    de.append(d1)\n",
    "umi=[]\n",
    "tem=[]\n",
    "for i in range(0,3568,1):\n",
    "    umi.append(float(tr(da[i+1],2)))\n",
    "    tem.append(float(tr(de[i+1],2)))"
   ]
  },
  {
   "cell_type": "code",
   "execution_count": 304,
   "id": "880d5477",
   "metadata": {},
   "outputs": [],
   "source": [
    "import plotly.express as px"
   ]
  },
  {
   "cell_type": "code",
   "execution_count": 370,
   "id": "cfe36f9a",
   "metadata": {},
   "outputs": [],
   "source": [
    "fig = go.Figure()\n",
    "fig.add_trace(go.Scatter(x=time, y=umi, name='Umidade relativa',line_color='blue'))\n",
    "\n",
    "#fig.add_trace(go.Scatter(x=time,y=umi1,name='Umidade relativa Janela', line=dict(color=\"yellow\")))\n",
    "\n",
    "fig.add_trace(go.Scatter(x=time,y=u,mode='lines',name='Umidade relativa Ideal', line=dict(color=\"Black\")))\n",
    "\n",
    "\n",
    "fig.update_xaxes(\n",
    "    rangeslider_visible=True,\n",
    "    rangeselector=dict(\n",
    "        buttons=list([\n",
    "            dict(count=10, label=\"Últimas 3 dias\", step=\"day\", stepmode=\"backward\"),\n",
    "            dict(count=3, label=\"Últimos 3 meses\", step=\"month\", stepmode=\"backward\"),\n",
    "            dict(step=\"all\",label=\"Toda série\")\n",
    "        ])\n",
    "    )\n",
    ")\n",
    "fig.update_layout(title='Dados internos', xaxis_title='tempo',yaxis_title='Umidade Relativa %')\n",
    "fig.write_html(\"umid_2021.html\")\n"
   ]
  },
  {
   "cell_type": "code",
   "execution_count": 372,
   "id": "c5f6b23d",
   "metadata": {},
   "outputs": [],
   "source": [
    "fig = go.Figure([go.Scatter(x=time, y=tem, name='Umidade',line_color='red')])\n",
    "\n",
    "#fig.add_trace(go.Scatter(x=time,y=tem1,mode='lines',name='Umidade relativa Janela', line=dict(color=\"yellow\")))\n",
    "\n",
    "fig.add_trace(go.Scatter(x=time, y=t,mode='lines',name='Temperatura Ideal', line=dict(color=\"black\")))\n",
    "\n",
    "\n",
    "fig.update_xaxes(\n",
    "    rangeslider_visible=True,\n",
    "    rangeselector=dict(\n",
    "        buttons=list([\n",
    "            dict(count=10, label=\"Últimas 10 dias\", step=\"day\", stepmode=\"backward\"),\n",
    "            dict(count=3, label=\"Últimos 3 meses\", step=\"month\", stepmode=\"backward\"),\n",
    "            dict(step=\"all\",label=\"Toda série\")\n",
    "        ])\n",
    "    )\n",
    ")\n",
    "fig.update_layout(title='Dados internos coletados na pandemia', xaxis_title='tempo',yaxis_title='Temperatura °C')\n",
    "fig.write_html(\"tem_2021.html\")\n"
   ]
  },
  {
   "cell_type": "code",
   "execution_count": null,
   "id": "7e793469",
   "metadata": {},
   "outputs": [],
   "source": []
  }
 ],
 "metadata": {
  "kernelspec": {
   "display_name": "Python 3 (ipykernel)",
   "language": "python",
   "name": "python3"
  },
  "language_info": {
   "codemirror_mode": {
    "name": "ipython",
    "version": 3
   },
   "file_extension": ".py",
   "mimetype": "text/x-python",
   "name": "python",
   "nbconvert_exporter": "python",
   "pygments_lexer": "ipython3",
   "version": "3.8.8"
  }
 },
 "nbformat": 4,
 "nbformat_minor": 5
}
