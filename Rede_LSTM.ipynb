{
  "nbformat": 4,
  "nbformat_minor": 0,
  "metadata": {
    "colab": {
      "name": "Rede_LSTM.ipynb",
      "provenance": [],
      "collapsed_sections": []
    },
    "kernelspec": {
      "name": "python3",
      "display_name": "Python 3"
    },
    "accelerator": "GPU",
    "widgets": {
      "application/vnd.jupyter.widget-state+json": {
        "be4177ec80494be9be0cd804cb099685": {
          "model_module": "@jupyter-widgets/controls",
          "model_name": "HBoxModel",
          "model_module_version": "1.5.0",
          "state": {
            "_view_name": "HBoxView",
            "_dom_classes": [],
            "_model_name": "HBoxModel",
            "_view_module": "@jupyter-widgets/controls",
            "_model_module_version": "1.5.0",
            "_view_count": null,
            "_view_module_version": "1.5.0",
            "box_style": "",
            "layout": "IPY_MODEL_ea5cae8b64ed48f0b0e7d9ee7dde21c5",
            "_model_module": "@jupyter-widgets/controls",
            "children": [
              "IPY_MODEL_b8e665e5da164e98b6cb719296c8ea9b",
              "IPY_MODEL_51523574101043eda6be3e3091f1f4af"
            ]
          }
        },
        "ea5cae8b64ed48f0b0e7d9ee7dde21c5": {
          "model_module": "@jupyter-widgets/base",
          "model_name": "LayoutModel",
          "model_module_version": "1.2.0",
          "state": {
            "_view_name": "LayoutView",
            "grid_template_rows": null,
            "right": null,
            "justify_content": null,
            "_view_module": "@jupyter-widgets/base",
            "overflow": null,
            "_model_module_version": "1.2.0",
            "_view_count": null,
            "flex_flow": null,
            "width": null,
            "min_width": null,
            "border": null,
            "align_items": null,
            "bottom": null,
            "_model_module": "@jupyter-widgets/base",
            "top": null,
            "grid_column": null,
            "overflow_y": null,
            "overflow_x": null,
            "grid_auto_flow": null,
            "grid_area": null,
            "grid_template_columns": null,
            "flex": null,
            "_model_name": "LayoutModel",
            "justify_items": null,
            "grid_row": null,
            "max_height": null,
            "align_content": null,
            "visibility": null,
            "align_self": null,
            "height": null,
            "min_height": null,
            "padding": null,
            "grid_auto_rows": null,
            "grid_gap": null,
            "max_width": null,
            "order": null,
            "_view_module_version": "1.2.0",
            "grid_template_areas": null,
            "object_position": null,
            "object_fit": null,
            "grid_auto_columns": null,
            "margin": null,
            "display": null,
            "left": null
          }
        },
        "b8e665e5da164e98b6cb719296c8ea9b": {
          "model_module": "@jupyter-widgets/controls",
          "model_name": "FloatProgressModel",
          "model_module_version": "1.5.0",
          "state": {
            "_view_name": "ProgressView",
            "style": "IPY_MODEL_9aab401b029c4a169c249006a707b70c",
            "_dom_classes": [],
            "description": "100%",
            "_model_name": "FloatProgressModel",
            "bar_style": "success",
            "max": 7039,
            "_view_module": "@jupyter-widgets/controls",
            "_model_module_version": "1.5.0",
            "value": 7039,
            "_view_count": null,
            "_view_module_version": "1.5.0",
            "orientation": "horizontal",
            "min": 0,
            "description_tooltip": null,
            "_model_module": "@jupyter-widgets/controls",
            "layout": "IPY_MODEL_f82fa1c50c7e4767b2a5704f600154d1"
          }
        },
        "51523574101043eda6be3e3091f1f4af": {
          "model_module": "@jupyter-widgets/controls",
          "model_name": "HTMLModel",
          "model_module_version": "1.5.0",
          "state": {
            "_view_name": "HTMLView",
            "style": "IPY_MODEL_a80873383f2943d8815416ebb72c1818",
            "_dom_classes": [],
            "description": "",
            "_model_name": "HTMLModel",
            "placeholder": "​",
            "_view_module": "@jupyter-widgets/controls",
            "_model_module_version": "1.5.0",
            "value": " 7039/7039 [00:03&lt;00:00, 1807.64it/s]",
            "_view_count": null,
            "_view_module_version": "1.5.0",
            "description_tooltip": null,
            "_model_module": "@jupyter-widgets/controls",
            "layout": "IPY_MODEL_b673bfbb0d0048ea96e1a87fc81f1648"
          }
        },
        "9aab401b029c4a169c249006a707b70c": {
          "model_module": "@jupyter-widgets/controls",
          "model_name": "ProgressStyleModel",
          "model_module_version": "1.5.0",
          "state": {
            "_view_name": "StyleView",
            "_model_name": "ProgressStyleModel",
            "description_width": "initial",
            "_view_module": "@jupyter-widgets/base",
            "_model_module_version": "1.5.0",
            "_view_count": null,
            "_view_module_version": "1.2.0",
            "bar_color": null,
            "_model_module": "@jupyter-widgets/controls"
          }
        },
        "f82fa1c50c7e4767b2a5704f600154d1": {
          "model_module": "@jupyter-widgets/base",
          "model_name": "LayoutModel",
          "model_module_version": "1.2.0",
          "state": {
            "_view_name": "LayoutView",
            "grid_template_rows": null,
            "right": null,
            "justify_content": null,
            "_view_module": "@jupyter-widgets/base",
            "overflow": null,
            "_model_module_version": "1.2.0",
            "_view_count": null,
            "flex_flow": null,
            "width": null,
            "min_width": null,
            "border": null,
            "align_items": null,
            "bottom": null,
            "_model_module": "@jupyter-widgets/base",
            "top": null,
            "grid_column": null,
            "overflow_y": null,
            "overflow_x": null,
            "grid_auto_flow": null,
            "grid_area": null,
            "grid_template_columns": null,
            "flex": null,
            "_model_name": "LayoutModel",
            "justify_items": null,
            "grid_row": null,
            "max_height": null,
            "align_content": null,
            "visibility": null,
            "align_self": null,
            "height": null,
            "min_height": null,
            "padding": null,
            "grid_auto_rows": null,
            "grid_gap": null,
            "max_width": null,
            "order": null,
            "_view_module_version": "1.2.0",
            "grid_template_areas": null,
            "object_position": null,
            "object_fit": null,
            "grid_auto_columns": null,
            "margin": null,
            "display": null,
            "left": null
          }
        },
        "a80873383f2943d8815416ebb72c1818": {
          "model_module": "@jupyter-widgets/controls",
          "model_name": "DescriptionStyleModel",
          "model_module_version": "1.5.0",
          "state": {
            "_view_name": "StyleView",
            "_model_name": "DescriptionStyleModel",
            "description_width": "",
            "_view_module": "@jupyter-widgets/base",
            "_model_module_version": "1.5.0",
            "_view_count": null,
            "_view_module_version": "1.2.0",
            "_model_module": "@jupyter-widgets/controls"
          }
        },
        "b673bfbb0d0048ea96e1a87fc81f1648": {
          "model_module": "@jupyter-widgets/base",
          "model_name": "LayoutModel",
          "model_module_version": "1.2.0",
          "state": {
            "_view_name": "LayoutView",
            "grid_template_rows": null,
            "right": null,
            "justify_content": null,
            "_view_module": "@jupyter-widgets/base",
            "overflow": null,
            "_model_module_version": "1.2.0",
            "_view_count": null,
            "flex_flow": null,
            "width": null,
            "min_width": null,
            "border": null,
            "align_items": null,
            "bottom": null,
            "_model_module": "@jupyter-widgets/base",
            "top": null,
            "grid_column": null,
            "overflow_y": null,
            "overflow_x": null,
            "grid_auto_flow": null,
            "grid_area": null,
            "grid_template_columns": null,
            "flex": null,
            "_model_name": "LayoutModel",
            "justify_items": null,
            "grid_row": null,
            "max_height": null,
            "align_content": null,
            "visibility": null,
            "align_self": null,
            "height": null,
            "min_height": null,
            "padding": null,
            "grid_auto_rows": null,
            "grid_gap": null,
            "max_width": null,
            "order": null,
            "_view_module_version": "1.2.0",
            "grid_template_areas": null,
            "object_position": null,
            "object_fit": null,
            "grid_auto_columns": null,
            "margin": null,
            "display": null,
            "left": null
          }
        },
        "ed4035a219984a53b2874b21edecf4d6": {
          "model_module": "@jupyter-widgets/controls",
          "model_name": "HBoxModel",
          "model_module_version": "1.5.0",
          "state": {
            "_view_name": "HBoxView",
            "_dom_classes": [],
            "_model_name": "HBoxModel",
            "_view_module": "@jupyter-widgets/controls",
            "_model_module_version": "1.5.0",
            "_view_count": null,
            "_view_module_version": "1.5.0",
            "box_style": "",
            "layout": "IPY_MODEL_6818f9f657e0414aaab6736c9637e8e6",
            "_model_module": "@jupyter-widgets/controls",
            "children": [
              "IPY_MODEL_03d800db66b04e2b8d5a4e072d4f7600",
              "IPY_MODEL_18ed711ff6c1466fa94776a856132e1c"
            ]
          }
        },
        "6818f9f657e0414aaab6736c9637e8e6": {
          "model_module": "@jupyter-widgets/base",
          "model_name": "LayoutModel",
          "model_module_version": "1.2.0",
          "state": {
            "_view_name": "LayoutView",
            "grid_template_rows": null,
            "right": null,
            "justify_content": null,
            "_view_module": "@jupyter-widgets/base",
            "overflow": null,
            "_model_module_version": "1.2.0",
            "_view_count": null,
            "flex_flow": null,
            "width": null,
            "min_width": null,
            "border": null,
            "align_items": null,
            "bottom": null,
            "_model_module": "@jupyter-widgets/base",
            "top": null,
            "grid_column": null,
            "overflow_y": null,
            "overflow_x": null,
            "grid_auto_flow": null,
            "grid_area": null,
            "grid_template_columns": null,
            "flex": null,
            "_model_name": "LayoutModel",
            "justify_items": null,
            "grid_row": null,
            "max_height": null,
            "align_content": null,
            "visibility": null,
            "align_self": null,
            "height": null,
            "min_height": null,
            "padding": null,
            "grid_auto_rows": null,
            "grid_gap": null,
            "max_width": null,
            "order": null,
            "_view_module_version": "1.2.0",
            "grid_template_areas": null,
            "object_position": null,
            "object_fit": null,
            "grid_auto_columns": null,
            "margin": null,
            "display": null,
            "left": null
          }
        },
        "03d800db66b04e2b8d5a4e072d4f7600": {
          "model_module": "@jupyter-widgets/controls",
          "model_name": "FloatProgressModel",
          "model_module_version": "1.5.0",
          "state": {
            "_view_name": "ProgressView",
            "style": "IPY_MODEL_37124dd9f98f4371b5954120788d1b0f",
            "_dom_classes": [],
            "description": "100%",
            "_model_name": "FloatProgressModel",
            "bar_style": "success",
            "max": 7039,
            "_view_module": "@jupyter-widgets/controls",
            "_model_module_version": "1.5.0",
            "value": 7039,
            "_view_count": null,
            "_view_module_version": "1.5.0",
            "orientation": "horizontal",
            "min": 0,
            "description_tooltip": null,
            "_model_module": "@jupyter-widgets/controls",
            "layout": "IPY_MODEL_9b1cc5db4c2f4e4e9ccbdf601d6749cb"
          }
        },
        "18ed711ff6c1466fa94776a856132e1c": {
          "model_module": "@jupyter-widgets/controls",
          "model_name": "HTMLModel",
          "model_module_version": "1.5.0",
          "state": {
            "_view_name": "HTMLView",
            "style": "IPY_MODEL_efb5e08e066e464cac7190ccedba15f2",
            "_dom_classes": [],
            "description": "",
            "_model_name": "HTMLModel",
            "placeholder": "​",
            "_view_module": "@jupyter-widgets/controls",
            "_model_module_version": "1.5.0",
            "value": " 7039/7039 [05:14&lt;00:00, 22.39it/s]",
            "_view_count": null,
            "_view_module_version": "1.5.0",
            "description_tooltip": null,
            "_model_module": "@jupyter-widgets/controls",
            "layout": "IPY_MODEL_3e65c6a499ee4dbda85e67513353df80"
          }
        },
        "37124dd9f98f4371b5954120788d1b0f": {
          "model_module": "@jupyter-widgets/controls",
          "model_name": "ProgressStyleModel",
          "model_module_version": "1.5.0",
          "state": {
            "_view_name": "StyleView",
            "_model_name": "ProgressStyleModel",
            "description_width": "initial",
            "_view_module": "@jupyter-widgets/base",
            "_model_module_version": "1.5.0",
            "_view_count": null,
            "_view_module_version": "1.2.0",
            "bar_color": null,
            "_model_module": "@jupyter-widgets/controls"
          }
        },
        "9b1cc5db4c2f4e4e9ccbdf601d6749cb": {
          "model_module": "@jupyter-widgets/base",
          "model_name": "LayoutModel",
          "model_module_version": "1.2.0",
          "state": {
            "_view_name": "LayoutView",
            "grid_template_rows": null,
            "right": null,
            "justify_content": null,
            "_view_module": "@jupyter-widgets/base",
            "overflow": null,
            "_model_module_version": "1.2.0",
            "_view_count": null,
            "flex_flow": null,
            "width": null,
            "min_width": null,
            "border": null,
            "align_items": null,
            "bottom": null,
            "_model_module": "@jupyter-widgets/base",
            "top": null,
            "grid_column": null,
            "overflow_y": null,
            "overflow_x": null,
            "grid_auto_flow": null,
            "grid_area": null,
            "grid_template_columns": null,
            "flex": null,
            "_model_name": "LayoutModel",
            "justify_items": null,
            "grid_row": null,
            "max_height": null,
            "align_content": null,
            "visibility": null,
            "align_self": null,
            "height": null,
            "min_height": null,
            "padding": null,
            "grid_auto_rows": null,
            "grid_gap": null,
            "max_width": null,
            "order": null,
            "_view_module_version": "1.2.0",
            "grid_template_areas": null,
            "object_position": null,
            "object_fit": null,
            "grid_auto_columns": null,
            "margin": null,
            "display": null,
            "left": null
          }
        },
        "efb5e08e066e464cac7190ccedba15f2": {
          "model_module": "@jupyter-widgets/controls",
          "model_name": "DescriptionStyleModel",
          "model_module_version": "1.5.0",
          "state": {
            "_view_name": "StyleView",
            "_model_name": "DescriptionStyleModel",
            "description_width": "",
            "_view_module": "@jupyter-widgets/base",
            "_model_module_version": "1.5.0",
            "_view_count": null,
            "_view_module_version": "1.2.0",
            "_model_module": "@jupyter-widgets/controls"
          }
        },
        "3e65c6a499ee4dbda85e67513353df80": {
          "model_module": "@jupyter-widgets/base",
          "model_name": "LayoutModel",
          "model_module_version": "1.2.0",
          "state": {
            "_view_name": "LayoutView",
            "grid_template_rows": null,
            "right": null,
            "justify_content": null,
            "_view_module": "@jupyter-widgets/base",
            "overflow": null,
            "_model_module_version": "1.2.0",
            "_view_count": null,
            "flex_flow": null,
            "width": null,
            "min_width": null,
            "border": null,
            "align_items": null,
            "bottom": null,
            "_model_module": "@jupyter-widgets/base",
            "top": null,
            "grid_column": null,
            "overflow_y": null,
            "overflow_x": null,
            "grid_auto_flow": null,
            "grid_area": null,
            "grid_template_columns": null,
            "flex": null,
            "_model_name": "LayoutModel",
            "justify_items": null,
            "grid_row": null,
            "max_height": null,
            "align_content": null,
            "visibility": null,
            "align_self": null,
            "height": null,
            "min_height": null,
            "padding": null,
            "grid_auto_rows": null,
            "grid_gap": null,
            "max_width": null,
            "order": null,
            "_view_module_version": "1.2.0",
            "grid_template_areas": null,
            "object_position": null,
            "object_fit": null,
            "grid_auto_columns": null,
            "margin": null,
            "display": null,
            "left": null
          }
        }
      }
    }
  },
  "cells": [
    {
      "cell_type": "code",
      "metadata": {
        "id": "hMdeSMR88JQV"
      },
      "source": [
        "import pandas as pd\n",
        "import numpy as np\n",
        "import matplotlib.pyplot as plt\n",
        "from tensorflow.keras.layers import Dense,LSTM\n",
        "from tensorflow.keras import utils\n",
        "from tensorflow.keras.models import Sequential\n",
        "from tensorflow.python.framework import ops\n",
        "from tqdm.notebook import trange\n",
        "import random\n",
        "from sklearn.metrics import f1_score,mean_absolute_error\n",
        "from tensorflow.keras.datasets.boston_housing import load_data\n",
        "from sklearn.preprocessing import MinMaxScaler\n",
        "import glob"
      ],
      "execution_count": null,
      "outputs": []
    },
    {
      "cell_type": "code",
      "metadata": {
        "id": "ngvmLF2a8X80",
        "colab": {
          "base_uri": "https://localhost:8080/",
          "height": 289
        },
        "outputId": "b917cdae-12fb-464c-e6e6-b35dd7be95f3"
      },
      "source": [
        "!wget https://github.com/vlsantos-bit/LSTM-Neural/archive/master.zip"
      ],
      "execution_count": null,
      "outputs": [
        {
          "output_type": "stream",
          "text": [
            "--2020-10-19 03:52:52--  https://github.com/vlsantos-bit/LSTM-Neural/archive/master.zip\n",
            "Resolving github.com (github.com)... 192.30.255.113\n",
            "Connecting to github.com (github.com)|192.30.255.113|:443... connected.\n",
            "HTTP request sent, awaiting response... 302 Found\n",
            "Location: https://codeload.github.com/vlsantos-bit/LSTM-Neural/zip/master [following]\n",
            "--2020-10-19 03:52:53--  https://codeload.github.com/vlsantos-bit/LSTM-Neural/zip/master\n",
            "Resolving codeload.github.com (codeload.github.com)... 192.30.255.120\n",
            "Connecting to codeload.github.com (codeload.github.com)|192.30.255.120|:443... connected.\n",
            "HTTP request sent, awaiting response... 200 OK\n",
            "Length: unspecified [application/zip]\n",
            "Saving to: ‘master.zip’\n",
            "\n",
            "master.zip              [  <=>               ]   4.73M  3.25MB/s    in 1.5s    \n",
            "\n",
            "2020-10-19 03:52:54 (3.25 MB/s) - ‘master.zip’ saved [4959807]\n",
            "\n"
          ],
          "name": "stdout"
        }
      ]
    },
    {
      "cell_type": "code",
      "metadata": {
        "id": "ND0VZX8E-UBI",
        "colab": {
          "base_uri": "https://localhost:8080/",
          "height": 119
        },
        "outputId": "7142a7f7-b0d4-4b1b-b1ef-500d1f51051f"
      },
      "source": [
        "!unzip master.zip"
      ],
      "execution_count": null,
      "outputs": [
        {
          "output_type": "stream",
          "text": [
            "Archive:  master.zip\n",
            "498c701120ea6880eaae0500ce58c60ba580f8d3\n",
            "   creating: LSTM-Neural-master/\n",
            "  inflating: LSTM-Neural-master/README.md  \n",
            "  inflating: LSTM-Neural-master/Rede_LSTM.ipynb  \n",
            "  inflating: LSTM-Neural-master/dado_INMET.csv  \n"
          ],
          "name": "stdout"
        }
      ]
    },
    {
      "cell_type": "code",
      "metadata": {
        "id": "jyh_SZ1i-YJj"
      },
      "source": [
        "# Realizando a abertura dos dados \n",
        "df = pd.read_csv(\"LSTM-Neural-master/dado_INMET.csv\", delimiter=\";\",quotechar='\"', decimal=\".\")"
      ],
      "execution_count": null,
      "outputs": []
    },
    {
      "cell_type": "code",
      "metadata": {
        "id": "OzVMu7JdYRA7",
        "colab": {
          "base_uri": "https://localhost:8080/",
          "height": 541
        },
        "outputId": "9739ca71-a1a7-45ed-b332-eb9522c4b5a0"
      },
      "source": [
        "df = df.iloc[20:]\n",
        "df"
      ],
      "execution_count": null,
      "outputs": [
        {
          "output_type": "execute_result",
          "data": {
            "text/html": [
              "<div>\n",
              "<style scoped>\n",
              "    .dataframe tbody tr th:only-of-type {\n",
              "        vertical-align: middle;\n",
              "    }\n",
              "\n",
              "    .dataframe tbody tr th {\n",
              "        vertical-align: top;\n",
              "    }\n",
              "\n",
              "    .dataframe thead th {\n",
              "        text-align: right;\n",
              "    }\n",
              "</style>\n",
              "<table border=\"1\" class=\"dataframe\">\n",
              "  <thead>\n",
              "    <tr style=\"text-align: right;\">\n",
              "      <th></th>\n",
              "      <th>Unnamed: 0</th>\n",
              "      <th>DATA</th>\n",
              "      <th>HORA</th>\n",
              "      <th>PRECI</th>\n",
              "      <th>PRES</th>\n",
              "      <th>MAXPRES</th>\n",
              "      <th>MINPRES</th>\n",
              "      <th>RADIACAO</th>\n",
              "      <th>TEMP_BUL</th>\n",
              "      <th>TEMP_P_O</th>\n",
              "      <th>TEMP_MIN</th>\n",
              "      <th>TEMP_MAX</th>\n",
              "      <th>TEMP_O_MAX</th>\n",
              "      <th>TEMP_O_MIN</th>\n",
              "      <th>UMI_REMAX</th>\n",
              "      <th>UMI_RELMIN</th>\n",
              "      <th>UMI</th>\n",
              "      <th>DIR_VEN</th>\n",
              "      <th>RAJ_MAX</th>\n",
              "      <th>VEN</th>\n",
              "      <th>nan</th>\n",
              "    </tr>\n",
              "  </thead>\n",
              "  <tbody>\n",
              "    <tr>\n",
              "      <th>20</th>\n",
              "      <td>20</td>\n",
              "      <td>2000-09-23</td>\n",
              "      <td>00:00</td>\n",
              "      <td>0.0</td>\n",
              "      <td>1014.5</td>\n",
              "      <td>1014.5</td>\n",
              "      <td>1014.2</td>\n",
              "      <td>-9999.0</td>\n",
              "      <td>13.9</td>\n",
              "      <td>11.0</td>\n",
              "      <td>14.7</td>\n",
              "      <td>13.9</td>\n",
              "      <td>11.0</td>\n",
              "      <td>8.9</td>\n",
              "      <td>83.0</td>\n",
              "      <td>69.0</td>\n",
              "      <td>83.0</td>\n",
              "      <td>110.0</td>\n",
              "      <td>5.8</td>\n",
              "      <td>2.8</td>\n",
              "      <td>NaN</td>\n",
              "    </tr>\n",
              "    <tr>\n",
              "      <th>21</th>\n",
              "      <td>21</td>\n",
              "      <td>2000-09-23</td>\n",
              "      <td>01:00</td>\n",
              "      <td>0.0</td>\n",
              "      <td>1014.3</td>\n",
              "      <td>1014.5</td>\n",
              "      <td>1014.3</td>\n",
              "      <td>-9999.0</td>\n",
              "      <td>13.3</td>\n",
              "      <td>10.7</td>\n",
              "      <td>13.9</td>\n",
              "      <td>13.3</td>\n",
              "      <td>11.1</td>\n",
              "      <td>10.4</td>\n",
              "      <td>84.0</td>\n",
              "      <td>82.0</td>\n",
              "      <td>84.0</td>\n",
              "      <td>120.0</td>\n",
              "      <td>6.3</td>\n",
              "      <td>2.6</td>\n",
              "      <td>NaN</td>\n",
              "    </tr>\n",
              "    <tr>\n",
              "      <th>22</th>\n",
              "      <td>22</td>\n",
              "      <td>2000-09-23</td>\n",
              "      <td>02:00</td>\n",
              "      <td>0.0</td>\n",
              "      <td>1013.7</td>\n",
              "      <td>1014.3</td>\n",
              "      <td>1013.7</td>\n",
              "      <td>-9999.0</td>\n",
              "      <td>12.9</td>\n",
              "      <td>10.4</td>\n",
              "      <td>13.3</td>\n",
              "      <td>12.9</td>\n",
              "      <td>10.7</td>\n",
              "      <td>10.2</td>\n",
              "      <td>85.0</td>\n",
              "      <td>83.0</td>\n",
              "      <td>84.0</td>\n",
              "      <td>124.0</td>\n",
              "      <td>6.6</td>\n",
              "      <td>2.3</td>\n",
              "      <td>NaN</td>\n",
              "    </tr>\n",
              "    <tr>\n",
              "      <th>23</th>\n",
              "      <td>23</td>\n",
              "      <td>2000-09-23</td>\n",
              "      <td>03:00</td>\n",
              "      <td>0.0</td>\n",
              "      <td>1012.9</td>\n",
              "      <td>1013.7</td>\n",
              "      <td>1012.9</td>\n",
              "      <td>-9999.0</td>\n",
              "      <td>12.8</td>\n",
              "      <td>10.5</td>\n",
              "      <td>13.0</td>\n",
              "      <td>12.8</td>\n",
              "      <td>10.5</td>\n",
              "      <td>10.3</td>\n",
              "      <td>85.0</td>\n",
              "      <td>84.0</td>\n",
              "      <td>85.0</td>\n",
              "      <td>121.0</td>\n",
              "      <td>6.1</td>\n",
              "      <td>2.0</td>\n",
              "      <td>NaN</td>\n",
              "    </tr>\n",
              "    <tr>\n",
              "      <th>24</th>\n",
              "      <td>24</td>\n",
              "      <td>2000-09-23</td>\n",
              "      <td>04:00</td>\n",
              "      <td>0.0</td>\n",
              "      <td>1012.0</td>\n",
              "      <td>1012.9</td>\n",
              "      <td>1012.0</td>\n",
              "      <td>-9999.0</td>\n",
              "      <td>12.5</td>\n",
              "      <td>10.6</td>\n",
              "      <td>12.9</td>\n",
              "      <td>12.5</td>\n",
              "      <td>10.6</td>\n",
              "      <td>10.4</td>\n",
              "      <td>89.0</td>\n",
              "      <td>86.0</td>\n",
              "      <td>89.0</td>\n",
              "      <td>130.0</td>\n",
              "      <td>6.3</td>\n",
              "      <td>2.2</td>\n",
              "      <td>NaN</td>\n",
              "    </tr>\n",
              "    <tr>\n",
              "      <th>...</th>\n",
              "      <td>...</td>\n",
              "      <td>...</td>\n",
              "      <td>...</td>\n",
              "      <td>...</td>\n",
              "      <td>...</td>\n",
              "      <td>...</td>\n",
              "      <td>...</td>\n",
              "      <td>...</td>\n",
              "      <td>...</td>\n",
              "      <td>...</td>\n",
              "      <td>...</td>\n",
              "      <td>...</td>\n",
              "      <td>...</td>\n",
              "      <td>...</td>\n",
              "      <td>...</td>\n",
              "      <td>...</td>\n",
              "      <td>...</td>\n",
              "      <td>...</td>\n",
              "      <td>...</td>\n",
              "      <td>...</td>\n",
              "      <td>...</td>\n",
              "    </tr>\n",
              "    <tr>\n",
              "      <th>168951</th>\n",
              "      <td>8755</td>\n",
              "      <td>2019/12/31</td>\n",
              "      <td>1900 UTC</td>\n",
              "      <td>0.0</td>\n",
              "      <td>996.9</td>\n",
              "      <td>997.5</td>\n",
              "      <td>996.9</td>\n",
              "      <td>2934.3</td>\n",
              "      <td>38.7</td>\n",
              "      <td>16.0</td>\n",
              "      <td>40.3</td>\n",
              "      <td>38.2</td>\n",
              "      <td>18.9</td>\n",
              "      <td>15.1</td>\n",
              "      <td>32.0</td>\n",
              "      <td>25.0</td>\n",
              "      <td>26.0</td>\n",
              "      <td>299.0</td>\n",
              "      <td>4.5</td>\n",
              "      <td>1.5</td>\n",
              "      <td>NaN</td>\n",
              "    </tr>\n",
              "    <tr>\n",
              "      <th>168952</th>\n",
              "      <td>8756</td>\n",
              "      <td>2019/12/31</td>\n",
              "      <td>2000 UTC</td>\n",
              "      <td>0.0</td>\n",
              "      <td>997.3</td>\n",
              "      <td>997.4</td>\n",
              "      <td>996.8</td>\n",
              "      <td>743.0</td>\n",
              "      <td>36.4</td>\n",
              "      <td>18.5</td>\n",
              "      <td>39.0</td>\n",
              "      <td>36.3</td>\n",
              "      <td>18.5</td>\n",
              "      <td>15.7</td>\n",
              "      <td>35.0</td>\n",
              "      <td>26.0</td>\n",
              "      <td>35.0</td>\n",
              "      <td>330.0</td>\n",
              "      <td>4.1</td>\n",
              "      <td>1.5</td>\n",
              "      <td>NaN</td>\n",
              "    </tr>\n",
              "    <tr>\n",
              "      <th>168953</th>\n",
              "      <td>8757</td>\n",
              "      <td>2019/12/31</td>\n",
              "      <td>2100 UTC</td>\n",
              "      <td>0.2</td>\n",
              "      <td>1000.3</td>\n",
              "      <td>1000.3</td>\n",
              "      <td>997.3</td>\n",
              "      <td>29.3</td>\n",
              "      <td>26.8</td>\n",
              "      <td>21.3</td>\n",
              "      <td>36.4</td>\n",
              "      <td>26.8</td>\n",
              "      <td>22.1</td>\n",
              "      <td>18.5</td>\n",
              "      <td>74.0</td>\n",
              "      <td>35.0</td>\n",
              "      <td>72.0</td>\n",
              "      <td>285.0</td>\n",
              "      <td>14.9</td>\n",
              "      <td>2.0</td>\n",
              "      <td>NaN</td>\n",
              "    </tr>\n",
              "    <tr>\n",
              "      <th>168954</th>\n",
              "      <td>8758</td>\n",
              "      <td>2019/12/31</td>\n",
              "      <td>2200 UTC</td>\n",
              "      <td>0.6</td>\n",
              "      <td>1000.8</td>\n",
              "      <td>1001.0</td>\n",
              "      <td>1000.3</td>\n",
              "      <td>13.4</td>\n",
              "      <td>24.7</td>\n",
              "      <td>22.5</td>\n",
              "      <td>26.8</td>\n",
              "      <td>24.5</td>\n",
              "      <td>23.1</td>\n",
              "      <td>21.4</td>\n",
              "      <td>91.0</td>\n",
              "      <td>72.0</td>\n",
              "      <td>88.0</td>\n",
              "      <td>87.0</td>\n",
              "      <td>5.0</td>\n",
              "      <td>0.9</td>\n",
              "      <td>NaN</td>\n",
              "    </tr>\n",
              "    <tr>\n",
              "      <th>168955</th>\n",
              "      <td>8759</td>\n",
              "      <td>2019/12/31</td>\n",
              "      <td>2300 UTC</td>\n",
              "      <td>0.2</td>\n",
              "      <td>1000.2</td>\n",
              "      <td>1000.9</td>\n",
              "      <td>1000.2</td>\n",
              "      <td>NaN</td>\n",
              "      <td>24.9</td>\n",
              "      <td>22.2</td>\n",
              "      <td>25.3</td>\n",
              "      <td>24.6</td>\n",
              "      <td>23.0</td>\n",
              "      <td>22.2</td>\n",
              "      <td>90.0</td>\n",
              "      <td>84.0</td>\n",
              "      <td>85.0</td>\n",
              "      <td>78.0</td>\n",
              "      <td>2.5</td>\n",
              "      <td>1.2</td>\n",
              "      <td>NaN</td>\n",
              "    </tr>\n",
              "  </tbody>\n",
              "</table>\n",
              "<p>168936 rows × 21 columns</p>\n",
              "</div>"
            ],
            "text/plain": [
              "        Unnamed: 0        DATA      HORA  PRECI  ...  DIR_VEN  RAJ_MAX  VEN  nan\n",
              "20              20  2000-09-23     00:00    0.0  ...    110.0      5.8  2.8  NaN\n",
              "21              21  2000-09-23     01:00    0.0  ...    120.0      6.3  2.6  NaN\n",
              "22              22  2000-09-23     02:00    0.0  ...    124.0      6.6  2.3  NaN\n",
              "23              23  2000-09-23     03:00    0.0  ...    121.0      6.1  2.0  NaN\n",
              "24              24  2000-09-23     04:00    0.0  ...    130.0      6.3  2.2  NaN\n",
              "...            ...         ...       ...    ...  ...      ...      ...  ...  ...\n",
              "168951        8755  2019/12/31  1900 UTC    0.0  ...    299.0      4.5  1.5  NaN\n",
              "168952        8756  2019/12/31  2000 UTC    0.0  ...    330.0      4.1  1.5  NaN\n",
              "168953        8757  2019/12/31  2100 UTC    0.2  ...    285.0     14.9  2.0  NaN\n",
              "168954        8758  2019/12/31  2200 UTC    0.6  ...     87.0      5.0  0.9  NaN\n",
              "168955        8759  2019/12/31  2300 UTC    0.2  ...     78.0      2.5  1.2  NaN\n",
              "\n",
              "[168936 rows x 21 columns]"
            ]
          },
          "metadata": {
            "tags": []
          },
          "execution_count": 7
        }
      ]
    },
    {
      "cell_type": "code",
      "metadata": {
        "id": "I46hjHKM-CWI",
        "colab": {
          "base_uri": "https://localhost:8080/",
          "height": 34
        },
        "outputId": "e6efe363-a1ce-422d-f21d-74846eb7db54"
      },
      "source": [
        "#Temperatura Máxima____________________________________________________________________________________\n",
        "tmx = df['TEMP_MAX']\n",
        "#tmax=tmx.replace([np.inf, -np.inf,'-9999.0',-9999.0], np.nan)\n",
        "#Temperatura Minima_____________________________________________________________________________________\n",
        "tmin = df['TEMP_MIN']\n",
        "#tmin=tmn.replace([np.inf, -np.inf,'-9999.0',-9999.0], np.nan)\n",
        "tmin.size"
      ],
      "execution_count": null,
      "outputs": [
        {
          "output_type": "execute_result",
          "data": {
            "text/plain": [
              "168936"
            ]
          },
          "metadata": {
            "tags": []
          },
          "execution_count": 8
        }
      ]
    },
    {
      "cell_type": "code",
      "metadata": {
        "id": "EHpxHMk2Qh1-"
      },
      "source": [
        "#time\n",
        "t = df['DATA']"
      ],
      "execution_count": null,
      "outputs": []
    },
    {
      "cell_type": "code",
      "metadata": {
        "id": "vDwf-DjhN96X"
      },
      "source": [
        "#Realizanod média dos dados\n",
        "temp = ((tmx+tmin)/2)\n",
        "temp1=pd.DataFrame(temp).dropna()\n",
        "temp=np.array(temp1,dtype=np.float64)\n",
        "te=np.concatenate(temp)\n",
        "#Converter em listas \n",
        "te.tolist()\n",
        "t.tolist()"
      ],
      "execution_count": null,
      "outputs": []
    },
    {
      "cell_type": "code",
      "metadata": {
        "id": "kpNXi8T4GiI0"
      },
      "source": [
        "#Tempo\n",
        "tims=[]"
      ],
      "execution_count": null,
      "outputs": []
    },
    {
      "cell_type": "code",
      "metadata": {
        "id": "fLms0JvlJy1y"
      },
      "source": [
        "#Dados\n",
        "dado=[]"
      ],
      "execution_count": null,
      "outputs": []
    },
    {
      "cell_type": "code",
      "metadata": {
        "id": "-2PuYS-1DFQr"
      },
      "source": [
        "#Função para separar as lista\n",
        "def sep(lista, n):\n",
        "    for i in trange(0, len(lista), n):\n",
        "        x=lista[i:i + n]\n",
        "        dado.append(x)"
      ],
      "execution_count": null,
      "outputs": []
    },
    {
      "cell_type": "code",
      "metadata": {
        "id": "d3kcLyDPjw8P",
        "colab": {
          "base_uri": "https://localhost:8080/",
          "height": 66,
          "referenced_widgets": [
            "be4177ec80494be9be0cd804cb099685",
            "ea5cae8b64ed48f0b0e7d9ee7dde21c5",
            "b8e665e5da164e98b6cb719296c8ea9b",
            "51523574101043eda6be3e3091f1f4af",
            "9aab401b029c4a169c249006a707b70c",
            "f82fa1c50c7e4767b2a5704f600154d1",
            "a80873383f2943d8815416ebb72c1818",
            "b673bfbb0d0048ea96e1a87fc81f1648"
          ]
        },
        "outputId": "fa972a7b-d983-472f-a97b-a81bd1fd7021"
      },
      "source": [
        "#Separando os dados\n",
        "sep(te,24)"
      ],
      "execution_count": null,
      "outputs": [
        {
          "output_type": "display_data",
          "data": {
            "application/vnd.jupyter.widget-view+json": {
              "model_id": "be4177ec80494be9be0cd804cb099685",
              "version_minor": 0,
              "version_major": 2
            },
            "text/plain": [
              "HBox(children=(FloatProgress(value=0.0, max=7039.0), HTML(value='')))"
            ]
          },
          "metadata": {
            "tags": []
          }
        },
        {
          "output_type": "stream",
          "text": [
            "\n"
          ],
          "name": "stdout"
        }
      ]
    },
    {
      "cell_type": "code",
      "metadata": {
        "id": "0MMb4t6eHVW1",
        "colab": {
          "base_uri": "https://localhost:8080/",
          "height": 66,
          "referenced_widgets": [
            "ed4035a219984a53b2874b21edecf4d6",
            "6818f9f657e0414aaab6736c9637e8e6",
            "03d800db66b04e2b8d5a4e072d4f7600",
            "18ed711ff6c1466fa94776a856132e1c",
            "37124dd9f98f4371b5954120788d1b0f",
            "9b1cc5db4c2f4e4e9ccbdf601d6749cb",
            "efb5e08e066e464cac7190ccedba15f2",
            "3e65c6a499ee4dbda85e67513353df80"
          ]
        },
        "outputId": "6697c937-a399-41f5-cda4-b019e701cda8"
      },
      "source": [
        "#Separando os tempos\n",
        "sep(t,24)"
      ],
      "execution_count": null,
      "outputs": [
        {
          "output_type": "display_data",
          "data": {
            "application/vnd.jupyter.widget-view+json": {
              "model_id": "ed4035a219984a53b2874b21edecf4d6",
              "version_minor": 0,
              "version_major": 2
            },
            "text/plain": [
              "HBox(children=(FloatProgress(value=0.0, max=7039.0), HTML(value='')))"
            ]
          },
          "metadata": {
            "tags": []
          }
        },
        {
          "output_type": "stream",
          "text": [
            "\n"
          ],
          "name": "stdout"
        }
      ]
    },
    {
      "cell_type": "code",
      "metadata": {
        "id": "tUrUuIzmJBdO",
        "colab": {
          "base_uri": "https://localhost:8080/",
          "height": 282
        },
        "outputId": "ceae82ca-de74-4d6d-fb36-8f53621c49ec"
      },
      "source": [
        "#Primeiras 24 horas de dados\n",
        "plt.plot(dado[4])"
      ],
      "execution_count": null,
      "outputs": [
        {
          "output_type": "execute_result",
          "data": {
            "text/plain": [
              "[<matplotlib.lines.Line2D at 0x7f23e5794518>]"
            ]
          },
          "metadata": {
            "tags": []
          },
          "execution_count": 17
        },
        {
          "output_type": "display_data",
          "data": {
            "image/png": "[encoded data removed]",
            "text/plain": [
              "<Figure size 432x288 with 1 Axes>"
            ]
          },
          "metadata": {
            "tags": [],
            "needs_background": "light"
          }
        }
      ]
    },
    {
      "cell_type": "code",
      "metadata": {
        "id": "cTLmwFHYbSvr",
        "colab": {
          "base_uri": "https://localhost:8080/",
          "height": 34
        },
        "outputId": "02f18a9a-3edc-4310-edc6-4caacd8cfa25"
      },
      "source": [
        "dado = pd.DataFrame(dado)\n",
        "dado.size"
      ],
      "execution_count": null,
      "outputs": [
        {
          "output_type": "execute_result",
          "data": {
            "text/plain": [
              "168936"
            ]
          },
          "metadata": {
            "tags": []
          },
          "execution_count": 18
        }
      ]
    },
    {
      "cell_type": "code",
      "metadata": {
        "id": "1j6WFWdV9pZY",
        "colab": {
          "base_uri": "https://localhost:8080/",
          "height": 68
        },
        "outputId": "49964a75-78d4-440e-f21a-479aa817ce50"
      },
      "source": [
        "da=dado.replace([np.inf,-np.inf,'-9999.0',-9999.0],np.nan)\n",
        "da.dropna()\n",
        "x=np.array(da)\n",
        "x[700]"
      ],
      "execution_count": null,
      "outputs": [
        {
          "output_type": "execute_result",
          "data": {
            "text/plain": [
              "array([18.8 , 18.7 , 18.5 , 17.95, 17.9 , 17.85, 18.2 , 17.65, 16.75,\n",
              "       16.5 , 15.2 , 13.95, 13.5 , 13.65, 13.9 , 13.85, 13.45,   nan,\n",
              "         nan,   nan,   nan,   nan,   nan,   nan])"
            ]
          },
          "metadata": {
            "tags": []
          },
          "execution_count": 19
        }
      ]
    },
    {
      "cell_type": "code",
      "metadata": {
        "id": "cWddKk-Yi2j1"
      },
      "source": [
        "me=da.mean(axis=1)\n",
        "del (me[2483])"
      ],
      "execution_count": null,
      "outputs": []
    },
    {
      "cell_type": "code",
      "metadata": {
        "id": "a1jM4QPU9FoC",
        "colab": {
          "base_uri": "https://localhost:8080/",
          "height": 34
        },
        "outputId": "06b21321-dd4f-4422-bbd0-2308ab2d8ba2"
      },
      "source": [
        "me.size"
      ],
      "execution_count": null,
      "outputs": [
        {
          "output_type": "execute_result",
          "data": {
            "text/plain": [
              "7038"
            ]
          },
          "metadata": {
            "tags": []
          },
          "execution_count": 21
        }
      ]
    },
    {
      "cell_type": "code",
      "metadata": {
        "id": "QZ9_3atCGFVX",
        "colab": {
          "base_uri": "https://localhost:8080/",
          "height": 367
        },
        "outputId": "2ec9a1d4-9cc2-4293-eb75-9a1e656d65f1"
      },
      "source": [
        "plt.figure(figsize = (15, 5))\n",
        "plt.plot(me)\n",
        "plt.xlabel(\"Dias\")\n",
        "plt.ylabel(\"Média de temperatura (°C)\")\n",
        "plt.title(\"Média de Temperatura diária - Porto Alegre - Est. INMET, 2000-2019\")"
      ],
      "execution_count": null,
      "outputs": [
        {
          "output_type": "execute_result",
          "data": {
            "text/plain": [
              "Text(0.5, 1.0, 'Média de Temperatura diária - Porto Alegre - Est. INMET, 2000-2019')"
            ]
          },
          "metadata": {
            "tags": []
          },
          "execution_count": 22
        },
        {
          "output_type": "display_data",
          "data": {
            "image/png": "[encoded data removed]",
            "text/plain": [
              "<Figure size 1080x360 with 1 Axes>"
            ]
          },
          "metadata": {
            "tags": [],
            "needs_background": "light"
          }
        }
      ]
    },
    {
      "cell_type": "code",
      "metadata": {
        "id": "6BuwlQDtk3JR",
        "colab": {
          "base_uri": "https://localhost:8080/",
          "height": 337
        },
        "outputId": "7295b19c-3258-4308-a20a-6b88bdd8ff98"
      },
      "source": [
        "da=me.dropna()\n",
        "plt.figure(figsize = (15, 5))\n",
        "plt.plot(da[6000:6300])"
      ],
      "execution_count": null,
      "outputs": [
        {
          "output_type": "execute_result",
          "data": {
            "text/plain": [
              "[<matplotlib.lines.Line2D at 0x7f23e4e42390>]"
            ]
          },
          "metadata": {
            "tags": []
          },
          "execution_count": 23
        },
        {
          "output_type": "display_data",
          "data": {
            "image/png": "[encoded data removed]",
            "text/plain": [
              "<Figure size 1080x360 with 1 Axes>"
            ]
          },
          "metadata": {
            "tags": [],
            "needs_background": "light"
          }
        }
      ]
    },
    {
      "cell_type": "code",
      "metadata": {
        "id": "gjeFamn6OS4S",
        "colab": {
          "base_uri": "https://localhost:8080/",
          "height": 51
        },
        "outputId": "d8b476ac-446f-4624-c1a1-db0d40fef937"
      },
      "source": [
        "pre=np.array(da)\n",
        "pre"
      ],
      "execution_count": null,
      "outputs": [
        {
          "output_type": "execute_result",
          "data": {
            "text/plain": [
              "array([17.52291667, 15.07916667, 10.75208333, ..., 29.27708333,\n",
              "       28.46041667, 28.85952381])"
            ]
          },
          "metadata": {
            "tags": []
          },
          "execution_count": 24
        }
      ]
    },
    {
      "cell_type": "code",
      "metadata": {
        "id": "tdLHPiXAVnmX"
      },
      "source": [
        "#1 Normalizar os dados \n",
        "from sklearn.preprocessing import StandardScaler"
      ],
      "execution_count": null,
      "outputs": []
    },
    {
      "cell_type": "code",
      "metadata": {
        "id": "7BW8UJeH-j_0",
        "colab": {
          "base_uri": "https://localhost:8080/",
          "height": 136
        },
        "outputId": "cbf5abff-1833-4a35-ccc7-6538a6253427"
      },
      "source": [
        "#normalizando dado\n",
        "pre=np.reshape(pre,(len(pre),1))\n",
        "scaler = MinMaxScaler(feature_range = (-1, 1))\n",
        "dado_normalizado = scaler.fit_transform(pre)\n",
        "dado_normalizado"
      ],
      "execution_count": null,
      "outputs": [
        {
          "output_type": "execute_result",
          "data": {
            "text/plain": [
              "array([[-0.12167958],\n",
              "       [-0.29821657],\n",
              "       [-0.61080593],\n",
              "       ...,\n",
              "       [ 0.72744375],\n",
              "       [ 0.66844759],\n",
              "       [ 0.69727917]])"
            ]
          },
          "metadata": {
            "tags": []
          },
          "execution_count": 26
        }
      ]
    },
    {
      "cell_type": "code",
      "metadata": {
        "id": "iW8cM5nI-oTL",
        "colab": {
          "base_uri": "https://localhost:8080/",
          "height": 34
        },
        "outputId": "95215f4d-2a73-4363-9c71-74054314d2c9"
      },
      "source": [
        "#normalizando dado\n",
        "n=int(len(dado_normalizado)*0.3)\n",
        "pres_train=dado_normalizado[:-n]\n",
        "pres_test=dado_normalizado[-n:]\n",
        "pres_train.shape"
      ],
      "execution_count": null,
      "outputs": [
        {
          "output_type": "execute_result",
          "data": {
            "text/plain": [
              "(4877, 1)"
            ]
          },
          "metadata": {
            "tags": []
          },
          "execution_count": 27
        }
      ]
    },
    {
      "cell_type": "code",
      "metadata": {
        "id": "BXDxb1Y8-q7i",
        "colab": {
          "base_uri": "https://localhost:8080/",
          "height": 34
        },
        "outputId": "ebb780dc-0c29-4eb7-b674-ea95b4406222"
      },
      "source": [
        "x_train=[]\n",
        "y_train=[]\n",
        "\n",
        "# Estruturando o sistema de entrada do conjunto de treinamento e o conjunto de teste\n",
        "for i in range(6,len(pres_train)-1):\n",
        "    x_train.append(pres_train[i-6:i])\n",
        "    y_train.append(pres_train[i][0])\n",
        "x_train=np.array(x_train)\n",
        "y_train=np.array(y_train)\n",
        "#################################################\n",
        "x_test=[]\n",
        "y_test=[]\n",
        "for i in range(6,len(pres_test)-1):\n",
        "    x_test.append(pres_test[i-6:i])\n",
        "    y_test.append(pres_test[i][0])\n",
        "x_test=np.array(x_test)\n",
        "y_test=np.array(y_test)\n",
        "y_train.shape"
      ],
      "execution_count": null,
      "outputs": [
        {
          "output_type": "execute_result",
          "data": {
            "text/plain": [
              "(4870,)"
            ]
          },
          "metadata": {
            "tags": []
          },
          "execution_count": 28
        }
      ]
    },
    {
      "cell_type": "code",
      "metadata": {
        "id": "d2hIbDcVD1qh"
      },
      "source": [
        "from keras.models import Sequential\n",
        "from keras.layers import LSTM\n",
        "from keras.layers import Dense\n",
        "from keras.layers import Dropout"
      ],
      "execution_count": null,
      "outputs": []
    },
    {
      "cell_type": "markdown",
      "metadata": {
        "id": "Bs8g7baNymty"
      },
      "source": [
        "### Teste Dickey-Fuller\n",
        "\n",
        "---\n",
        "\n",
        "\n",
        "\n",
        "---\n",
        "\n"
      ]
    },
    {
      "cell_type": "code",
      "metadata": {
        "id": "0_t_CVQBEBsd",
        "colab": {
          "base_uri": "https://localhost:8080/",
          "height": 51
        },
        "outputId": "7e1e1ad2-d87e-4a3d-b548-c9917e203f4c"
      },
      "source": [
        "from statsmodels.tsa.stattools import adfuller\n",
        "\n",
        "def test_stationarity(timeseries):\n",
        "\n",
        "    print('Results of Dickey-Fuller Test:')\n",
        "    dftest = ts.adfuller(timeseries, autolag='AIC' )\n",
        "    dfoutput = pd.Series(dftest[0:4], index=['Test Statistic','p-value','#Lags Used','Number of Observations Used'])\n",
        "    for key,value in dftest[4].items():\n",
        "        dfoutput['Critical Value (%s)'%key] = value\n",
        "    print(dfoutput)\n",
        "    test_stationarity(tr)"
      ],
      "execution_count": null,
      "outputs": [
        {
          "output_type": "stream",
          "text": [
            "/usr/local/lib/python3.6/dist-packages/statsmodels/tools/_testing.py:19: FutureWarning: pandas.util.testing is deprecated. Use the functions in the public API at pandas.testing instead.\n",
            "  import pandas.util.testing as tm\n"
          ],
          "name": "stderr"
        }
      ]
    },
    {
      "cell_type": "code",
      "metadata": {
        "id": "bZLD0k4RzUGz",
        "colab": {
          "base_uri": "https://localhost:8080/",
          "height": 34
        },
        "outputId": "bc405130-3f5a-4feb-f29b-a901b356d4cf"
      },
      "source": [
        "df2=pd.DataFrame(pre[:])\n",
        "dftest = adfuller(df2.iloc[:,0].values, autolag='AIC' )\n",
        "print(\"SÉRIE ESTÁCIONÁRIA\",dftest)"
      ],
      "execution_count": null,
      "outputs": [
        {
          "output_type": "stream",
          "text": [
            "SÉRIE ESTÁCIONÁRIA (-5.388501020096765, 3.5807514444883515e-06, 33, 6933, {'1%': -3.431293563078993, '5%': -2.861956978441577, '10%': -2.5669919537233103}, 28853.337025673653)\n"
          ],
          "name": "stdout"
        }
      ]
    },
    {
      "cell_type": "code",
      "metadata": {
        "id": "x7_Ln2QuaKuv"
      },
      "source": [
        "from keras.callbacks import EarlyStopping\n",
        "from sklearn.metrics import mean_squared_error\n",
        "from sklearn.metrics import mean_absolute_error"
      ],
      "execution_count": null,
      "outputs": []
    },
    {
      "cell_type": "code",
      "metadata": {
        "id": "zDcXUz4Gyzfm"
      },
      "source": [
        "look_back = 30"
      ],
      "execution_count": null,
      "outputs": []
    },
    {
      "cell_type": "code",
      "metadata": {
        "id": "3l1amnR4-t4L"
      },
      "source": [
        "# Criando os parâmetros da rede\n",
        "#1° Modelo de rede \n",
        "model = Sequential()\n",
        "model.add(LSTM(128, activation = 'sigmoid',input_shape=(x_train.shape[1], x_train.shape[2])))\n",
        "model.add(Dropout(0.2))\n",
        "model.add(Dense(1))\n",
        "model.compile(loss='mean_squared_error', optimizer='adam')\n",
        "model.summary()\n",
        "history = model.fit(x_train, y_train, epochs=200, batch_size=100, validation_data=(x_test, y_test),\n",
        "                callbacks=[EarlyStopping(monitor='val_loss', patience=10)], verbose=1, shuffle=False)"
      ],
      "execution_count": null,
      "outputs": []
    },
    {
      "cell_type": "code",
      "metadata": {
        "id": "HJndoVRdYZDe",
        "colab": {
          "base_uri": "https://localhost:8080/",
          "height": 85
        },
        "outputId": "ef579a4b-9a6f-4363-af79-ef91f1874758"
      },
      "source": [
        "train_predict = model.predict(x_train)\n",
        "test_predict = model.predict(x_test)\n",
        "# invert predictions\n",
        "train_predict = scaler.inverse_transform(train_predict)\n",
        "Y_train = scaler.inverse_transform([y_train])\n",
        "test_predict = scaler.inverse_transform(test_predict)\n",
        "Y_test = scaler.inverse_transform([y_test])\n",
        "print('Train Mean Absolute Error:', mean_absolute_error(Y_train[0], train_predict[:,0]))\n",
        "print('Train Root Mean Squared Error:',np.sqrt(mean_squared_error(Y_train[0], train_predict[:,0])))\n",
        "print('Test Mean Absolute Error:', mean_absolute_error(Y_test[0], test_predict[:,0]))\n",
        "print('Test Root Mean Squared Error:',np.sqrt(mean_squared_error(Y_test[0], test_predict[:,0])))"
      ],
      "execution_count": null,
      "outputs": [
        {
          "output_type": "stream",
          "text": [
            "Train Mean Absolute Error: 1.5159156562742115\n",
            "Train Root Mean Squared Error: 1.997015180030116\n",
            "Test Mean Absolute Error: 1.4548085467277165\n",
            "Test Root Mean Squared Error: 1.8905484010358593\n"
          ],
          "name": "stdout"
        }
      ]
    },
    {
      "cell_type": "code",
      "metadata": {
        "id": "iA96XRwqbTYp",
        "colab": {
          "base_uri": "https://localhost:8080/",
          "height": 295
        },
        "outputId": "a4568e1a-e927-4c72-9e1c-e79f70c16806"
      },
      "source": [
        "plt.figure(figsize=(8,4))\n",
        "plt.plot(history.history['loss'], label='Train Loss')\n",
        "plt.plot(history.history['val_loss'], label='Test Loss')\n",
        "plt.title('model loss')\n",
        "plt.ylabel('loss')\n",
        "plt.xlabel('epochs')\n",
        "plt.legend(loc='upper right')\n",
        "plt.show();"
      ],
      "execution_count": null,
      "outputs": [
        {
          "output_type": "display_data",
          "data": {
            "image/png": "[encoded data removed]",
            "text/plain": [
              "<Figure size 576x288 with 1 Axes>"
            ]
          },
          "metadata": {
            "tags": [],
            "needs_background": "light"
          }
        }
      ]
    },
    {
      "cell_type": "code",
      "metadata": {
        "id": "T914l7Jdbq7v"
      },
      "source": [
        "import seaborn as sns\n",
        "sns.set_context(\"paper\", font_scale=1.3)\n",
        "sns.set_style('white')"
      ],
      "execution_count": null,
      "outputs": []
    },
    {
      "cell_type": "code",
      "metadata": {
        "id": "UugF9Qvjp8CE"
      },
      "source": [
        "train_predict = model.predict(x_train)\n",
        "test_predict = model.predict(x_test)"
      ],
      "execution_count": null,
      "outputs": []
    },
    {
      "cell_type": "code",
      "metadata": {
        "id": "eqbQ_04oHX8N"
      },
      "source": [
        "#1° TESTE\n",
        "dataset = pre1.values #numpy.ndarray\n",
        "dataset = dataset.astype('float32')\n",
        "dataset = np.reshape(dataset, (-1, 1))\n",
        "scaler = MinMaxScaler(feature_range=(0, 1))\n",
        "dataset = scaler.fit_transform(dataset)\n",
        "train_size = int(len(dataset) * 0.80)\n",
        "test_size = len(dataset) - train_size\n",
        "train, test = dataset[0:train_size,:], dataset[train_size:len(dataset),:]"
      ],
      "execution_count": null,
      "outputs": []
    },
    {
      "cell_type": "code",
      "metadata": {
        "id": "Ihj58IURTllk"
      },
      "source": [
        "# convert an array of values into a dataset matrix\n",
        "def create_dataset(dataset, look_back=1):\n",
        "    X, Y = [], []\n",
        "    for i in range(len(dataset)-look_back-1):\n",
        "        a = dataset[i:(i+look_back), 0]\n",
        "        X.append(a)\n",
        "        Y.append(dataset[i + look_back, 0])\n",
        "    return np.array(X), np.array(Y)"
      ],
      "execution_count": null,
      "outputs": []
    },
    {
      "cell_type": "code",
      "metadata": {
        "id": "rVtbjwk4TpcN"
      },
      "source": [
        "look_back = 60\n",
        "X_train, Y_train = create_dataset(train, look_back)\n",
        "X_test, Y_test = create_dataset(test, look_back)"
      ],
      "execution_count": null,
      "outputs": []
    },
    {
      "cell_type": "code",
      "metadata": {
        "id": "YlPHATEvHT1F"
      },
      "source": [
        "# reshape input to be [samples, time steps, features]\n",
        "X_train = np.reshape(X_train, (X_train.shape[0], 1, X_train.shape[1]))\n",
        "X_test = np.reshape(X_test, (X_test.shape[0], 1, X_test.shape[1]))"
      ],
      "execution_count": null,
      "outputs": []
    },
    {
      "cell_type": "code",
      "metadata": {
        "id": "4iJE6iDlHaJB"
      },
      "source": [
        "# Criando os parâmetros da rede\n",
        "#1° Modelo de rede \n",
        "model = Sequential()\n",
        "model.add(LSTM(128, activation = 'sigmoid',input_shape=(x_train.shape[1], x_train.shape[2])))\n",
        "model.add(Dropout(0.2))\n",
        "model.add(Dense(1))\n",
        "model.compile(loss='mean_squared_error', optimizer='adam')\n",
        "model.summary()\n",
        "history = model.fit(x_train, y_train, epochs=200, batch_size=100, validation_data=(x_test, y_test),\n",
        "                callbacks=[EarlyStopping(monitor='val_loss', patience=10)], verbose=1, shuffle=False)"
      ],
      "execution_count": null,
      "outputs": []
    },
    {
      "cell_type": "code",
      "metadata": {
        "id": "_NY5DPqcOdDh"
      },
      "source": [
        "train_predict = model.predict(x_train)\n",
        "test_predict = model.predict(x_test)\n",
        "# invert predictions\n",
        "train_predict = scaler.inverse_transform(train_predict)\n",
        "Y_train = scaler.inverse_transform([y_train])\n",
        "test_predict = scaler.inverse_transform(test_predict)\n",
        "Y_test = scaler.inverse_transform([y_test])\n",
        "#print('Train Mean Absolute Error:', mean_absolute_error(Y_train[0], train_predict[:,0]))\n",
        "#print('Train Root Mean Squared Error:',np.sqrt(mean_squared_error(Y_train[0], train_predict[:,0])))\n",
        "#print('Test Mean Absolute Error:', mean_absolute_error(Y_test[0], test_predict[:,0]))\n",
        "#print('Test Root Mean Squared Error:',np.sqrt(mean_squared_error(Y_test[0], test_predict[:,0])))"
      ],
      "execution_count": null,
      "outputs": []
    },
    {
      "cell_type": "code",
      "metadata": {
        "id": "NDFsUpz1akoC",
        "colab": {
          "base_uri": "https://localhost:8080/",
          "height": 246
        },
        "outputId": "55158697-0bf8-458d-876c-00d17f9d43a8"
      },
      "source": [
        "plt.figure(figsize = (15, 5))\n",
        "plt.plot(aa, Y_test[0][:200], marker='.', label=\"actual\")\n",
        "plt.plot(aa, test_predict[:,0][:200], 'r', label=\"prediction\")\n",
        "# plt.tick_params(left=False, labelleft=True) #remove ticks\n",
        "plt.tight_layout()\n",
        "sns.despine(top=True)\n",
        "plt.subplots_adjust(left=0.07)\n",
        "plt.ylabel('Global_active_power', size=15)\n",
        "plt.xlabel('Time step', size=15)\n",
        "plt.legend(fontsize=15)\n",
        "plt.show();"
      ],
      "execution_count": null,
      "outputs": [
        {
          "output_type": "display_data",
          "data": {
            "image/png": "[encoded data removed]",
            "text/plain": [
              "<Figure size 1080x360 with 1 Axes>"
            ]
          },
          "metadata": {
            "tags": []
          }
        }
      ]
    }
  ]
}